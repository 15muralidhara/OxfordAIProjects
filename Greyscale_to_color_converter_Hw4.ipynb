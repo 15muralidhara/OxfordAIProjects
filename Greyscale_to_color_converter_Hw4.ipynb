{
  "nbformat": 4,
  "nbformat_minor": 0,
  "metadata": {
    "colab": {
      "provenance": [],
      "machine_shape": "hm",
      "gpuType": "T4",
      "include_colab_link": true
    },
    "kernelspec": {
      "name": "python3",
      "display_name": "Python 3"
    },
    "language_info": {
      "name": "python"
    },
    "accelerator": "GPU",
    "gpuClass": "standard"
  },
  "cells": [
    {
      "cell_type": "markdown",
      "metadata": {
        "id": "view-in-github",
        "colab_type": "text"
      },
      "source": [
        "<a href=\"https://colab.research.google.com/github/15muralidhara/oxcourse/blob/main/Greyscale_to_color_converter_Hw4.ipynb\" target=\"_parent\"><img src=\"https://colab.research.google.com/assets/colab-badge.svg\" alt=\"Open In Colab\"/></a>"
      ]
    },
    {
      "cell_type": "markdown",
      "source": [
        "Using the CIFAR10 data provided below, create an alogrithm that takes in a gray scale image and coverts it to a color image.\n",
        "\n",
        "Note for this problem we will define the grayscale image as the average of the three color channels."
      ],
      "metadata": {
        "id": "0FmLTZXJRbwP"
      }
    },
    {
      "cell_type": "code",
      "source": [
        "import torch\n",
        "import torch.nn as nn\n",
        "import torch.optim as optim\n",
        "import torchvision.transforms as transforms\n",
        "from torch.utils.data import DataLoader\n",
        "from torchvision.datasets import CIFAR10"
      ],
      "metadata": {
        "id": "qDG_wYnA_MpU"
      },
      "execution_count": null,
      "outputs": []
    },
    {
      "cell_type": "code",
      "source": [
        "train_data = CIFAR10(root='./datasets', train=True, download=True, transform=transforms.ToTensor())\n",
        "test_data = CIFAR10(root='./datasets', train=True, download=False, transform=transforms.ToTensor())\n",
        "\n",
        "train_loader = DataLoader(train_data,batch_size=64, shuffle=True, pin_memory=True)\n",
        "test_loader = DataLoader(test_data,batch_size=64, shuffle=False, pin_memory=True)\n",
        "\n",
        "# creating a GAN-based model for colorization\n",
        "class Generator(nn.Module):\n",
        "    def __init__(self):\n",
        "        super(Generator, self).__init__()\n",
        "        # Define architecture of the generator\n",
        "        self.model = nn.Sequential(\n",
        "            nn.Conv2d(1, 64, kernel_size=4, stride=2, padding=1),\n",
        "            nn.ReLU(inplace=True),\n",
        "            nn.Conv2d(64, 128, kernel_size=4, stride=2, padding=1),\n",
        "            nn.ReLU(inplace=True),\n",
        "            nn.Upsample(scale_factor=2, mode='bilinear', align_corners=True),\n",
        "            nn.Conv2d(128, 64, kernel_size=3, stride=1, padding=1),\n",
        "            nn.ReLU(inplace=True),\n",
        "            nn.Conv2d(64, 3, kernel_size=3, stride=1, padding=1),\n",
        "            nn.Tanh()\n",
        "        )\n",
        "        # Initialize the biases with zeros\n",
        "        for layer in self.model:\n",
        "            if isinstance(layer, nn.Conv2d):\n",
        "                nn.init.zeros_(layer.bias)\n",
        "\n",
        "    def forward(self, x):\n",
        "        return self.model(x)\n",
        "\n",
        "class Discriminator(nn.Module):\n",
        "    def __init__(self):\n",
        "        super(Discriminator, self).__init__()\n",
        "        self.model = nn.Sequential(\n",
        "            nn.Conv2d(3, 64, kernel_size=3, stride=1, padding=1),\n",
        "            nn.LeakyReLU(0.2, inplace=True),\n",
        "            nn.Conv2d(64, 128, kernel_size=3, stride=2, padding=1),\n",
        "            nn.LeakyReLU(0.2, inplace=True),\n",
        "            nn.Conv2d(128, 256, kernel_size=3, stride=2, padding=1),\n",
        "            nn.LeakyReLU(0.2, inplace=True),\n",
        "            nn.Conv2d(256, 1, kernel_size=3, stride=1, padding=0)\n",
        "        )\n",
        "    def forward(self, x):\n",
        "        return self.model(x)\n",
        "\n",
        "# need to pool it to produce single scale not 2d\n",
        "# for initialization of generator,"
      ],
      "metadata": {
        "id": "nhoa4MXe_TFU",
        "colab": {
          "base_uri": "https://localhost:8080/"
        },
        "outputId": "0c167bdd-c07e-4f2a-dcb2-126d01109b50"
      },
      "execution_count": null,
      "outputs": [
        {
          "output_type": "stream",
          "name": "stdout",
          "text": [
            "Files already downloaded and verified\n"
          ]
        }
      ]
    },
    {
      "cell_type": "code",
      "source": [
        "#train model using binary cross-entropy loss and Adam optimizer\n",
        "\n",
        "def train_colorization_gan(generator, discriminator, criterion, gen_optimizer, disc_optimizer, num_epochs=10):\n",
        "    device = torch.device('cuda' if torch.cuda.is_available() else 'cpu')\n",
        "    generator.to(device)\n",
        "    discriminator.to(device)\n",
        "\n",
        "    for epoch in range(num_epochs):\n",
        "        for i, (greyscale_images, color_images) in enumerate(train_loader):\n",
        "            greyscale_images, color_images = greyscale_images.to(device).float(), color_images.to(device).float()\n",
        "            real_labels = torch.ones(color_images.size(0), 1).to(device)\n",
        "            fake_labels = torch.zeros(color_images.size(0), 1).to(device)\n",
        "\n",
        "            color_images = color_images.repeat(1, 3, 1, 1)\n",
        "\n",
        "            # Train the discriminator\n",
        "            disc_optimizer.zero_grad()\n",
        "            real_outputs = discriminator(color_images)\n",
        "            real_loss = criterion(real_outputs, real_labels)\n",
        "\n",
        "            fake_images = generator(greyscale_images)\n",
        "            fake_outputs = discriminator(fake_images.detach())\n",
        "            fake_loss = criterion(fake_outputs, fake_labels)\n",
        "\n",
        "\n",
        "            disc_loss = (real_loss + fake_loss) / 2.0\n",
        "            disc_loss.backward()\n",
        "            disc_optimizer.step()\n",
        "\n",
        "            # Train the generator\n",
        "            gen_optimizer.zero_grad()\n",
        "            fake_outputs = discriminator(fake_images)\n",
        "            gen_loss = criterion(fake_outputs, real_labels)\n",
        "            gen_loss.backward()\n",
        "            gen_optimizer.step()\n",
        "\n",
        "            if i % 100 == 0:\n",
        "                print(f\"Epoch [{epoch}/{num_epochs}] Batch [{i}/{len(train_loader)}] Gen Loss: {gen_loss.item()} Disc Loss: {disc_loss.item()}\")\n",
        "\n",
        "\n",
        "# Instantiate the generator and discriminator\n",
        "generator = Generator()\n",
        "discriminator = Discriminator()\n",
        "\n",
        "# Define the loss and optimizers\n",
        "criterion = nn.BCEWithLogitsLoss()\n",
        "gen_optimizer = optim.Adam(generator.parameters(), lr=0.0002, betas=(0.5, 0.999))\n",
        "disc_optimizer = optim.Adam(discriminator.parameters(), lr=0.0002, betas=(0.5, 0.999))\n",
        "\n",
        "# Train the GAN\n",
        "num_epochs = 10\n",
        "train_colorization_gan(generator, discriminator, criterion, gen_optimizer, disc_optimizer, num_epochs)"
      ],
      "metadata": {
        "id": "sa8hl2cjxAi_",
        "colab": {
          "base_uri": "https://localhost:8080/",
          "height": 245
        },
        "outputId": "007400ba-aed6-499c-dcf0-b244c3ec9956"
      },
      "execution_count": 1,
      "outputs": [
        {
          "output_type": "error",
          "ename": "NameError",
          "evalue": "ignored",
          "traceback": [
            "\u001b[0;31m---------------------------------------------------------------------------\u001b[0m",
            "\u001b[0;31mNameError\u001b[0m                                 Traceback (most recent call last)",
            "\u001b[0;32m<ipython-input-1-cc1a7f5b563d>\u001b[0m in \u001b[0;36m<cell line: 42>\u001b[0;34m()\u001b[0m\n\u001b[1;32m     40\u001b[0m \u001b[0;34m\u001b[0m\u001b[0m\n\u001b[1;32m     41\u001b[0m \u001b[0;31m# Instantiate the generator and discriminator\u001b[0m\u001b[0;34m\u001b[0m\u001b[0;34m\u001b[0m\u001b[0m\n\u001b[0;32m---> 42\u001b[0;31m \u001b[0mgenerator\u001b[0m \u001b[0;34m=\u001b[0m \u001b[0mGenerator\u001b[0m\u001b[0;34m(\u001b[0m\u001b[0;34m)\u001b[0m\u001b[0;34m\u001b[0m\u001b[0;34m\u001b[0m\u001b[0m\n\u001b[0m\u001b[1;32m     43\u001b[0m \u001b[0mdiscriminator\u001b[0m \u001b[0;34m=\u001b[0m \u001b[0mDiscriminator\u001b[0m\u001b[0;34m(\u001b[0m\u001b[0;34m)\u001b[0m\u001b[0;34m\u001b[0m\u001b[0;34m\u001b[0m\u001b[0m\n\u001b[1;32m     44\u001b[0m \u001b[0;34m\u001b[0m\u001b[0m\n",
            "\u001b[0;31mNameError\u001b[0m: name 'Generator' is not defined"
          ]
        }
      ]
    },
    {
      "cell_type": "code",
      "source": [
        "# colourize\n",
        "\n",
        "def colorize_images(generator, test_loader):\n",
        "    device = torch.device('cuda' if torch.cuda.is_available() else 'cpu')\n",
        "    generator.to(device)\n",
        "    generator.eval()\n",
        "\n",
        "    colorized_images = []\n",
        "    with torch.no_grad():\n",
        "        for greyscale_images, _ in test_loader:\n",
        "            greyscale_images = greyscale_images.to(device)\n",
        "            color_images = generator(greyscale_images)\n",
        "            colorized_images.append(color_images.cpu())\n",
        "\n",
        "    return torch.cat(colorized_images, dim=0)\n",
        "\n",
        "\n",
        "# Colorize test images\n",
        "colorized_images = colorize_images(generator, test_loader)"
      ],
      "metadata": {
        "id": "Grj75TjqxDuP"
      },
      "execution_count": null,
      "outputs": []
    }
  ]
}